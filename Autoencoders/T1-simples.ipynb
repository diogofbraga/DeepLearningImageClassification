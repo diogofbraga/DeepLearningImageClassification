{
 "cells": [
  {
   "cell_type": "code",
   "execution_count": 1,
   "metadata": {},
   "outputs": [
    {
     "name": "stderr",
     "output_type": "stream",
     "text": [
      "Using TensorFlow backend.\n",
      "/usr/local/lib/python3.7/site-packages/tensorflow/python/framework/dtypes.py:516: FutureWarning: Passing (type, 1) or '1type' as a synonym of type is deprecated; in a future version of numpy, it will be understood as (type, (1,)) / '(1,)type'.\n",
      "  _np_qint8 = np.dtype([(\"qint8\", np.int8, 1)])\n",
      "/usr/local/lib/python3.7/site-packages/tensorflow/python/framework/dtypes.py:517: FutureWarning: Passing (type, 1) or '1type' as a synonym of type is deprecated; in a future version of numpy, it will be understood as (type, (1,)) / '(1,)type'.\n",
      "  _np_quint8 = np.dtype([(\"quint8\", np.uint8, 1)])\n",
      "/usr/local/lib/python3.7/site-packages/tensorflow/python/framework/dtypes.py:518: FutureWarning: Passing (type, 1) or '1type' as a synonym of type is deprecated; in a future version of numpy, it will be understood as (type, (1,)) / '(1,)type'.\n",
      "  _np_qint16 = np.dtype([(\"qint16\", np.int16, 1)])\n",
      "/usr/local/lib/python3.7/site-packages/tensorflow/python/framework/dtypes.py:519: FutureWarning: Passing (type, 1) or '1type' as a synonym of type is deprecated; in a future version of numpy, it will be understood as (type, (1,)) / '(1,)type'.\n",
      "  _np_quint16 = np.dtype([(\"quint16\", np.uint16, 1)])\n",
      "/usr/local/lib/python3.7/site-packages/tensorflow/python/framework/dtypes.py:520: FutureWarning: Passing (type, 1) or '1type' as a synonym of type is deprecated; in a future version of numpy, it will be understood as (type, (1,)) / '(1,)type'.\n",
      "  _np_qint32 = np.dtype([(\"qint32\", np.int32, 1)])\n",
      "/usr/local/lib/python3.7/site-packages/tensorflow/python/framework/dtypes.py:525: FutureWarning: Passing (type, 1) or '1type' as a synonym of type is deprecated; in a future version of numpy, it will be understood as (type, (1,)) / '(1,)type'.\n",
      "  np_resource = np.dtype([(\"resource\", np.ubyte, 1)])\n",
      "/usr/local/lib/python3.7/site-packages/tensorboard/compat/tensorflow_stub/dtypes.py:541: FutureWarning: Passing (type, 1) or '1type' as a synonym of type is deprecated; in a future version of numpy, it will be understood as (type, (1,)) / '(1,)type'.\n",
      "  _np_qint8 = np.dtype([(\"qint8\", np.int8, 1)])\n",
      "/usr/local/lib/python3.7/site-packages/tensorboard/compat/tensorflow_stub/dtypes.py:542: FutureWarning: Passing (type, 1) or '1type' as a synonym of type is deprecated; in a future version of numpy, it will be understood as (type, (1,)) / '(1,)type'.\n",
      "  _np_quint8 = np.dtype([(\"quint8\", np.uint8, 1)])\n",
      "/usr/local/lib/python3.7/site-packages/tensorboard/compat/tensorflow_stub/dtypes.py:543: FutureWarning: Passing (type, 1) or '1type' as a synonym of type is deprecated; in a future version of numpy, it will be understood as (type, (1,)) / '(1,)type'.\n",
      "  _np_qint16 = np.dtype([(\"qint16\", np.int16, 1)])\n",
      "/usr/local/lib/python3.7/site-packages/tensorboard/compat/tensorflow_stub/dtypes.py:544: FutureWarning: Passing (type, 1) or '1type' as a synonym of type is deprecated; in a future version of numpy, it will be understood as (type, (1,)) / '(1,)type'.\n",
      "  _np_quint16 = np.dtype([(\"quint16\", np.uint16, 1)])\n",
      "/usr/local/lib/python3.7/site-packages/tensorboard/compat/tensorflow_stub/dtypes.py:545: FutureWarning: Passing (type, 1) or '1type' as a synonym of type is deprecated; in a future version of numpy, it will be understood as (type, (1,)) / '(1,)type'.\n",
      "  _np_qint32 = np.dtype([(\"qint32\", np.int32, 1)])\n",
      "/usr/local/lib/python3.7/site-packages/tensorboard/compat/tensorflow_stub/dtypes.py:550: FutureWarning: Passing (type, 1) or '1type' as a synonym of type is deprecated; in a future version of numpy, it will be understood as (type, (1,)) / '(1,)type'.\n",
      "  np_resource = np.dtype([(\"resource\", np.ubyte, 1)])\n"
     ]
    }
   ],
   "source": [
    "from keras.datasets import mnist\n",
    "from keras.layers import Input, Dense #tambem vai ser preciso o Input Layer\n",
    "from keras.models import Model  #em vez do Sequential\n",
    "from keras.utils import np_utils\n",
    "#from keras import backend as K\n",
    "import sys, os \n",
    "\n",
    "import numpy as np\n",
    "import pandas as pd\n",
    "import matplotlib.pyplot as plt\n",
    "from livelossplot import PlotLossesKeras\n",
    "\n",
    "\n",
    "%matplotlib inline"
   ]
  },
  {
   "cell_type": "markdown",
   "metadata": {},
   "source": [
    "Preparação dos dados, com hipotese de criar uma rede 2D ou 1D"
   ]
  },
  {
   "cell_type": "code",
   "execution_count": 2,
   "metadata": {},
   "outputs": [
    {
     "name": "stdout",
     "output_type": "stream",
     "text": [
      "(60000, 28, 28)\n"
     ]
    },
    {
     "data": {
      "image/png": "[encoded data removed]",
      "text/plain": [
       "<Figure size 432x288 with 6 Axes>"
      ]
     },
     "metadata": {
      "needs_background": "light"
     },
     "output_type": "display_data"
    },
    {
     "name": "stdout",
     "output_type": "stream",
     "text": [
      "(60000, 784)\n",
      "(10000, 784)\n"
     ]
    }
   ],
   "source": [
    "def load_mnist_dataset(path='mnist.npz'):\n",
    "    #path = get_file(path, origin='https://s3.amazonaws.com/img-datasets/mnist.npz')\n",
    "    f = np.load(path)\n",
    "    x_train = f['x_train']\n",
    "    y_train = f['y_train']\n",
    "    x_test = f['x_test']\n",
    "    y_test = f['y_test']\n",
    "    f.close()\n",
    "    return (x_train, y_train), (x_test, y_test)\n",
    "\n",
    "\n",
    "# Visualizar 6 imagens do mnist numa escala de cinzentos\n",
    "def visualize_mnist(X_train):\n",
    "    #(X_train, y_train), (X_test, y_test) = load_mnist_dataset('mnist.npz')\n",
    "    plt.subplot(321)\n",
    "    plt.imshow(X_train[0], cmap='gray')\n",
    "    plt.subplot(322)\n",
    "    plt.imshow(X_train[1], cmap='gray')\n",
    "    plt.subplot(323)\n",
    "    plt.imshow(X_train[2], cmap='gray')\n",
    "    plt.subplot(324)\n",
    "    plt.imshow(X_train[3], cmap='gray')\n",
    "    plt.subplot(325)\n",
    "    plt.imshow(X_train[4], cmap='gray')\n",
    "    plt.subplot(326)\n",
    "    plt.imshow(X_train[5], cmap='gray')\n",
    "    plt.show()\n",
    "    \n",
    "def data_preparation_2D():\n",
    "    (X_train, y_train), (X_test, y_test) = load_mnist_dataset('mnist.npz')\n",
    "    print(X_train.shape)\n",
    "    \n",
    "    visualize_mnist(X_train)\n",
    "    \n",
    "    # transformar para o formato [instancias][largura][altura][pixeis]\n",
    "    print(\"shape[0]: \",X_train.shape[0])\n",
    "    print(\"shape antes: \",X_train.shape)\n",
    "    X_train = X_train.reshape(X_train.shape[0], 28, 28, 1).astype('float32')\n",
    "    X_test = X_test.reshape(X_test.shape[0], 28, 28, 1).astype('float32')\n",
    "    print(\"shape depois: \",X_train.shape)\n",
    "    \n",
    "    # normalizar os valores dos pixeis de 0-255 para 0-1\n",
    "    X_train = X_train / 255\n",
    "    X_test = X_test / 255\n",
    "    \n",
    "    # transformar o label que é um inteiro em categorias binárias, o valor passa a ser o correspondente à posição\n",
    "    # o 5 passa a ser a lista [0. 0. 0. 0. 0. 1. 0. 0. 0. 0.]\n",
    "    y_train = np_utils.to_categorical(y_train)\n",
    "    y_test = np_utils.to_categorical(y_test)\n",
    "    \n",
    "    num_classes = y_test.shape[1]\n",
    "    \n",
    "    return X_train, X_test, y_train, y_test, num_classes\n",
    "\n",
    "\n",
    "def data_preparation_1D():\n",
    "    (X_train, y_train), (X_test, y_test) = load_mnist_dataset('mnist.npz')\n",
    "    print(X_train.shape)\n",
    "    \n",
    "    visualize_mnist(X_train)\n",
    "    \n",
    "    # transformar para o formato [instancias][largura * altura]\n",
    "    X_train = X_train.astype('float32')/255\n",
    "    X_test = X_test.astype('float32')/255\n",
    "    \n",
    "    num_pixels = X_train.shape[1] * X_train.shape[2] #ou np.prod(X_train.shape[1:])\n",
    "    \n",
    "    X_train = X_train.reshape(len(X_train), num_pixels) #para passar a matriz a vetor\n",
    "    X_test = X_test.reshape(len(X_test), num_pixels)\n",
    "    y_train = np_utils.to_categorical(y_train)\n",
    "    y_test = np_utils.to_categorical(y_test)\n",
    "    \n",
    "    num_classes = y_test.shape[1]\n",
    "    \n",
    "    print(X_train.shape)\n",
    "    print(X_test.shape)\n",
    "    \n",
    "    return X_train, X_test, y_train, y_test, num_classes\n",
    "    \n",
    "    \n",
    "#X_train, X_test, y_train, y_test, num_classes = data_preparation_2D()\n",
    "X_train, X_test, y_train, y_test, num_classes = data_preparation_1D()"
   ]
  },
  {
   "cell_type": "code",
   "execution_count": 3,
   "metadata": {},
   "outputs": [
    {
     "name": "stdout",
     "output_type": "stream",
     "text": [
      "\n",
      "############### ENCODER #################\n",
      "Model: \"model_2\"\n",
      "_________________________________________________________________\n",
      "Layer (type)                 Output Shape              Param #   \n",
      "=================================================================\n",
      "input_1 (InputLayer)         (None, 784)               0         \n",
      "_________________________________________________________________\n",
      "dense_1 (Dense)              (None, 32)                25120     \n",
      "=================================================================\n",
      "Total params: 25,120\n",
      "Trainable params: 25,120\n",
      "Non-trainable params: 0\n",
      "_________________________________________________________________\n",
      "\n",
      "############### ENCODER + DECODER #################\n",
      "Model: \"model_1\"\n",
      "_________________________________________________________________\n",
      "Layer (type)                 Output Shape              Param #   \n",
      "=================================================================\n",
      "input_1 (InputLayer)         (None, 784)               0         \n",
      "_________________________________________________________________\n",
      "dense_1 (Dense)              (None, 32)                25120     \n",
      "_________________________________________________________________\n",
      "dense_2 (Dense)              (None, 784)               25872     \n",
      "=================================================================\n",
      "Total params: 50,992\n",
      "Trainable params: 50,992\n",
      "Non-trainable params: 0\n",
      "_________________________________________________________________\n"
     ]
    }
   ],
   "source": [
    "def create_Autoencoder():\n",
    "    # this is the size of our encoded representations\n",
    "    encoding_dim = 32  # 32 floats -> compression of factor 24.5, assuming the input is 784 floats\n",
    "\n",
    "    # this is our input placeholder\n",
    "    input_img = Input(shape=(784,))\n",
    "    # \"encoded\" is the encoded representation of the input\n",
    "    encoded = Dense(encoding_dim, activation='relu')(input_img)\n",
    "    # \"decoded\" is the lossy reconstruction of the input\n",
    "    decoded = Dense(784, activation='sigmoid')(encoded)\n",
    "\n",
    "    # this model maps an input to its reconstruction\n",
    "    autoencoder = Model(input_img, decoded)\n",
    "    \n",
    "    # this model maps an input to its encoded representation\n",
    "    encoder = Model(input_img, encoded)\n",
    "    \n",
    "    # create a placeholder for an encoded (32-dimensional) input\n",
    "    encoded_input = Input(shape=(encoding_dim,))\n",
    "    # retrieve the last layer of the autoencoder model\n",
    "    decoder_layer = autoencoder.layers[-1]\n",
    "    # create the decoder model\n",
    "    decoder = Model(encoded_input, decoder_layer(encoded_input))\n",
    "    \n",
    "    return autoencoder, encoder\n",
    "\n",
    "(autoencoder, encoder) = create_Autoencoder()\n",
    "print(\"\\n############### ENCODER #################\")\n",
    "encoder.summary()\n",
    "print(\"\\n############### ENCODER + DECODER #################\")\n",
    "autoencoder.summary()"
   ]
  },
  {
   "cell_type": "code",
   "execution_count": 4,
   "metadata": {},
   "outputs": [
    {
     "data": {
      "text/plain": [
       "'\\nfrom ann_visualizer.visualize import ann_viz\\nann_viz(encoder, view=True, filename=\"aula8_autoencoder_simples.gv\", title=\"Autoencoder simples\");\\n'"
      ]
     },
     "execution_count": 4,
     "metadata": {},
     "output_type": "execute_result"
    }
   ],
   "source": [
    "# Criar uma imagem da rede para exposição em aula\n",
    "# Não funciona porque o ann_visualizer só funciona com o sequential model do keras\n",
    "'''\n",
    "from ann_visualizer.visualize import ann_viz\n",
    "ann_viz(encoder, view=True, filename=\"aula8_autoencoder_simples.gv\", title=\"Autoencoder simples\");\n",
    "'''"
   ]
  },
  {
   "cell_type": "code",
   "execution_count": 5,
   "metadata": {},
   "outputs": [
    {
     "data": {
      "image/png": "[encoded data removed]",
      "text/plain": [
       "<Figure size 864x576 with 2 Axes>"
      ]
     },
     "metadata": {
      "needs_background": "light"
     },
     "output_type": "display_data"
    },
    {
     "name": "stdout",
     "output_type": "stream",
     "text": [
      "accuracy\n",
      "\tvalidation       \t (min:    0.795, max:    0.813, cur:    0.813)\n",
      "\ttraining         \t (min:    0.757, max:    0.814, cur:    0.814)\n",
      "Loss\n",
      "\tvalidation       \t (min:    0.101, max:    0.271, cur:    0.101)\n",
      "\ttraining         \t (min:    0.102, max:    0.353, cur:    0.102)\n",
      "Scores:  [0.10072998614311218, 0.812687873840332]\n",
      "Erro autoencoder: 18.73%\n"
     ]
    }
   ],
   "source": [
    "def compiletrain(autoencoder, X_train, X_test):\n",
    "    autoencoder.compile(optimizer='adadelta', loss='binary_crossentropy', metrics=['accuracy'])\n",
    "    history = autoencoder.fit(X_train, X_train,  #notar que usamos como label o próprio input\n",
    "                              epochs=50, \n",
    "                              batch_size=256, \n",
    "                              shuffle=True, \n",
    "                              validation_data=(X_test, X_test), #aqui na validação tb colocamos como label o input\n",
    "                              verbose=0,\n",
    "                              callbacks=[PlotLossesKeras()])\n",
    "    # Avaliação final com os casos de teste\n",
    "    scores = autoencoder.evaluate(X_test, X_test, verbose=0)\n",
    "    print('Scores: ', scores)\n",
    "    print(\"Erro autoencoder: %.2f%%\" % (100-scores[1]*100))                                                                                                                                \n",
    "    return autoencoder,history\n",
    "\n",
    "(autoencoder,history) = compiletrain(autoencoder, X_train, X_test)"
   ]
  },
  {
   "cell_type": "code",
   "execution_count": 6,
   "metadata": {},
   "outputs": [
    {
     "name": "stdout",
     "output_type": "stream",
     "text": [
      "Original Images - first 10 images of X_test\n"
     ]
    },
    {
     "data": {
      "image/png": "[encoded data removed]",
      "text/plain": [
       "<Figure size 2160x72 with 10 Axes>"
      ]
     },
     "metadata": {
      "needs_background": "light"
     },
     "output_type": "display_data"
    },
    {
     "name": "stdout",
     "output_type": "stream",
     "text": [
      "Encoded Images - first 10 images of X_test\n"
     ]
    },
    {
     "data": {
      "image/png": "[encoded data removed]",
      "text/plain": [
       "<Figure size 2160x72 with 10 Axes>"
      ]
     },
     "metadata": {
      "needs_background": "light"
     },
     "output_type": "display_data"
    },
    {
     "name": "stdout",
     "output_type": "stream",
     "text": [
      "Decoded Images - first 10 images of X_test\n"
     ]
    },
    {
     "data": {
      "image/png": "[encoded data removed]",
      "text/plain": [
       "<Figure size 2160x72 with 10 Axes>"
      ]
     },
     "metadata": {
      "needs_background": "light"
     },
     "output_type": "display_data"
    }
   ],
   "source": [
    "def visualize_predictions(encoder,autoencoder,X_test):\n",
    "    encoded_images = encoder.predict(X_test)\n",
    "    predicted_images = autoencoder.predict(X_test)\n",
    "    \n",
    "    # Original Images\n",
    "    print(\"Original Images - first 10 images of X_test\")\n",
    "    plt.figure(figsize=(30, 1))\n",
    "    for i in range(10):\n",
    "        ax = plt.subplot(1, 20, i + 1)\n",
    "        plt.imshow(X_test[i].reshape(28, 28))\n",
    "        plt.gray()\n",
    "        ax.get_xaxis().set_visible(False)\n",
    "        ax.get_yaxis().set_visible(False)\n",
    "    plt.show()\n",
    "    \n",
    "    # display Encoded Images (latent space)\n",
    "    print(\"Encoded Images - first 10 images of X_test\")\n",
    "    plt.figure(figsize=(30, 1))\n",
    "    for i in range(10):\n",
    "        ax = plt.subplot(1, 20, i + 1)\n",
    "        plt.imshow(encoded_images[i].reshape(8,4))\n",
    "        plt.gray()\n",
    "        ax.get_xaxis().set_visible(False)\n",
    "        ax.get_yaxis().set_visible(False)\n",
    "    plt.show() \n",
    "    \n",
    "    # display Decoded Images\n",
    "    print(\"Decoded Images - first 10 images of X_test\")\n",
    "    plt.figure(figsize=(30, 1))\n",
    "    for i in range(10):\n",
    "        ax = plt.subplot(1, 20, i+ 1)\n",
    "        plt.imshow(predicted_images[i].reshape(28, 28))\n",
    "        plt.gray()\n",
    "        ax.get_xaxis().set_visible(False)\n",
    "        ax.get_yaxis().set_visible(False)\n",
    "    plt.show()\n",
    "    \n",
    "visualize_predictions(encoder,autoencoder,X_test)"
   ]
  },
  {
   "cell_type": "markdown",
   "metadata": {},
   "source": [
    "Podemos utilizar este modelo para deteção de anomalias (imagens que não são digitos)"
   ]
  },
  {
   "cell_type": "code",
   "execution_count": 7,
   "metadata": {},
   "outputs": [
    {
     "name": "stdout",
     "output_type": "stream",
     "text": [
      "First 10 images of X_test\n",
      "Distancia: 2.4208074\n",
      "Distancia: 3.4919221\n",
      "Distancia: 1.6472718\n",
      "Distancia: 2.5267584\n",
      "Distancia: 2.7482665\n",
      "Distancia: 1.2500786\n",
      "Distancia: 2.9137905\n",
      "Distancia: 4.0641704\n",
      "Distancia: 3.8788247\n",
      "Distancia: 2.8791208\n",
      "Distancia de não digito: 4339.8857\n"
     ]
    }
   ],
   "source": [
    "#Distancia nas imagens do dataset:\n",
    "def visualize_distancia_previsoes(encoder,autoencoder,X_test):\n",
    "    encoded_images = encoder.predict(X_test)\n",
    "    predicted_images = autoencoder.predict(X_test)  \n",
    "    # Original Images\n",
    "    print(\"First 10 images of X_test\")\n",
    "    for i in range(10):\n",
    "        dist = np.linalg.norm(X_test[i] - predicted_images[i], axis=-1)\n",
    "        print(\"Distancia:\",dist)\n",
    "    \n",
    "visualize_distancia_previsoes(encoder,autoencoder,X_test[:10])\n",
    "\n",
    "from keras.preprocessing import image\n",
    "# como a imagem cifar10-test-24.png não é um digito do genero em que foi treinado, então a distancia entre os dois vetores será muito grande.\n",
    "\n",
    "img = image.load_img(\"./cifar10-test-24.png\", target_size=(28, 28), color_mode = \"grayscale\")\n",
    "input_img = image.img_to_array(img)\n",
    "inputs = input_img.reshape(1,784)\n",
    "target_data = autoencoder.predict(inputs)\n",
    "dist = np.linalg.norm(inputs - target_data, axis=-1)\n",
    "print(\"Distancia de não digito:\",dist[0])"
   ]
  }
 ],
 "metadata": {
  "kernelspec": {
   "display_name": "Python 3",
   "language": "python",
   "name": "python3"
  },
  "language_info": {
   "codemirror_mode": {
    "name": "ipython",
    "version": 3
   },
   "file_extension": ".py",
   "mimetype": "text/x-python",
   "name": "python",
   "nbconvert_exporter": "python",
   "pygments_lexer": "ipython3",
   "version": "3.7.6"
  }
 },
 "nbformat": 4,
 "nbformat_minor": 4
}
