{
 "cells": [
  {
   "cell_type": "markdown",
   "metadata": {},
   "source": [
    "**Modelos generativos: Variational autoencoder com encoder/decoder Conv2D**"
   ]
  },
  {
   "cell_type": "code",
   "execution_count": 1,
   "metadata": {},
   "outputs": [
    {
     "name": "stderr",
     "output_type": "stream",
     "text": [
      "Using TensorFlow backend.\n",
      "/usr/local/lib/python3.7/site-packages/tensorflow/python/framework/dtypes.py:516: FutureWarning: Passing (type, 1) or '1type' as a synonym of type is deprecated; in a future version of numpy, it will be understood as (type, (1,)) / '(1,)type'.\n",
      "  _np_qint8 = np.dtype([(\"qint8\", np.int8, 1)])\n",
      "/usr/local/lib/python3.7/site-packages/tensorflow/python/framework/dtypes.py:517: FutureWarning: Passing (type, 1) or '1type' as a synonym of type is deprecated; in a future version of numpy, it will be understood as (type, (1,)) / '(1,)type'.\n",
      "  _np_quint8 = np.dtype([(\"quint8\", np.uint8, 1)])\n",
      "/usr/local/lib/python3.7/site-packages/tensorflow/python/framework/dtypes.py:518: FutureWarning: Passing (type, 1) or '1type' as a synonym of type is deprecated; in a future version of numpy, it will be understood as (type, (1,)) / '(1,)type'.\n",
      "  _np_qint16 = np.dtype([(\"qint16\", np.int16, 1)])\n",
      "/usr/local/lib/python3.7/site-packages/tensorflow/python/framework/dtypes.py:519: FutureWarning: Passing (type, 1) or '1type' as a synonym of type is deprecated; in a future version of numpy, it will be understood as (type, (1,)) / '(1,)type'.\n",
      "  _np_quint16 = np.dtype([(\"quint16\", np.uint16, 1)])\n",
      "/usr/local/lib/python3.7/site-packages/tensorflow/python/framework/dtypes.py:520: FutureWarning: Passing (type, 1) or '1type' as a synonym of type is deprecated; in a future version of numpy, it will be understood as (type, (1,)) / '(1,)type'.\n",
      "  _np_qint32 = np.dtype([(\"qint32\", np.int32, 1)])\n",
      "/usr/local/lib/python3.7/site-packages/tensorflow/python/framework/dtypes.py:525: FutureWarning: Passing (type, 1) or '1type' as a synonym of type is deprecated; in a future version of numpy, it will be understood as (type, (1,)) / '(1,)type'.\n",
      "  np_resource = np.dtype([(\"resource\", np.ubyte, 1)])\n",
      "/usr/local/lib/python3.7/site-packages/tensorboard/compat/tensorflow_stub/dtypes.py:541: FutureWarning: Passing (type, 1) or '1type' as a synonym of type is deprecated; in a future version of numpy, it will be understood as (type, (1,)) / '(1,)type'.\n",
      "  _np_qint8 = np.dtype([(\"qint8\", np.int8, 1)])\n",
      "/usr/local/lib/python3.7/site-packages/tensorboard/compat/tensorflow_stub/dtypes.py:542: FutureWarning: Passing (type, 1) or '1type' as a synonym of type is deprecated; in a future version of numpy, it will be understood as (type, (1,)) / '(1,)type'.\n",
      "  _np_quint8 = np.dtype([(\"quint8\", np.uint8, 1)])\n",
      "/usr/local/lib/python3.7/site-packages/tensorboard/compat/tensorflow_stub/dtypes.py:543: FutureWarning: Passing (type, 1) or '1type' as a synonym of type is deprecated; in a future version of numpy, it will be understood as (type, (1,)) / '(1,)type'.\n",
      "  _np_qint16 = np.dtype([(\"qint16\", np.int16, 1)])\n",
      "/usr/local/lib/python3.7/site-packages/tensorboard/compat/tensorflow_stub/dtypes.py:544: FutureWarning: Passing (type, 1) or '1type' as a synonym of type is deprecated; in a future version of numpy, it will be understood as (type, (1,)) / '(1,)type'.\n",
      "  _np_quint16 = np.dtype([(\"quint16\", np.uint16, 1)])\n",
      "/usr/local/lib/python3.7/site-packages/tensorboard/compat/tensorflow_stub/dtypes.py:545: FutureWarning: Passing (type, 1) or '1type' as a synonym of type is deprecated; in a future version of numpy, it will be understood as (type, (1,)) / '(1,)type'.\n",
      "  _np_qint32 = np.dtype([(\"qint32\", np.int32, 1)])\n",
      "/usr/local/lib/python3.7/site-packages/tensorboard/compat/tensorflow_stub/dtypes.py:550: FutureWarning: Passing (type, 1) or '1type' as a synonym of type is deprecated; in a future version of numpy, it will be understood as (type, (1,)) / '(1,)type'.\n",
      "  np_resource = np.dtype([(\"resource\", np.ubyte, 1)])\n"
     ]
    }
   ],
   "source": [
    "import sys, os \n",
    "os.environ['KERAS_BACKEND'] = \"tensorflow\"\n",
    "\n",
    "import keras\n",
    "from keras import backend as K\n",
    "#from keras import layers\n",
    "from keras.layers import Input, Dense, Flatten, Conv2D, Reshape, Conv2DTranspose, Lambda\n",
    "#from keras.datasets import mnist\n",
    "from keras.models import Model, Sequential\n",
    "from keras.utils import to_categorical\n",
    "\n",
    "from keras.layers import Input, Dense\n",
    "from keras.utils import np_utils\n",
    "\n",
    "from keras.callbacks import ModelCheckpoint\n",
    "import sys, os \n",
    "\n",
    "import numpy as np\n",
    "import pandas as pd\n",
    "import matplotlib.pyplot as plt\n",
    "from matplotlib import cm\n",
    "\n",
    "from livelossplot import PlotLossesKeras\n",
    "\n",
    "%matplotlib inline"
   ]
  },
  {
   "cell_type": "code",
   "execution_count": 2,
   "metadata": {},
   "outputs": [
    {
     "name": "stdout",
     "output_type": "stream",
     "text": [
      "(60000, 28, 28)\n"
     ]
    },
    {
     "data": {
      "image/png": "[encoded data removed]",
      "text/plain": [
       "<Figure size 432x288 with 6 Axes>"
      ]
     },
     "metadata": {
      "needs_background": "light"
     },
     "output_type": "display_data"
    },
    {
     "name": "stdout",
     "output_type": "stream",
     "text": [
      "shape[0]:  60000\n",
      "shape antes:  (60000, 28, 28)\n",
      "shape depois:  (60000, 28, 28, 1)\n"
     ]
    }
   ],
   "source": [
    "def load_mnist_dataset(path='mnist.npz'):\n",
    "    #path = get_file(path, origin='https://s3.amazonaws.com/img-datasets/mnist.npz')\n",
    "    f = np.load(path)\n",
    "    x_train = f['x_train']\n",
    "    y_train = f['y_train']\n",
    "    x_test = f['x_test']\n",
    "    y_test = f['y_test']\n",
    "    f.close()\n",
    "    return (x_train, y_train), (x_test, y_test)\n",
    "\n",
    "\n",
    "# Visualizar 6 imagens do mnist numa escala de cinzentos\n",
    "def visualize_mnist(X_train):\n",
    "    #(X_train, y_train), (X_test, y_test) = load_mnist_dataset('mnist.npz')\n",
    "    plt.subplot(321)\n",
    "    plt.imshow(X_train[0], cmap='gray')\n",
    "    plt.subplot(322)\n",
    "    plt.imshow(X_train[1], cmap='gray')\n",
    "    plt.subplot(323)\n",
    "    plt.imshow(X_train[2], cmap='gray')\n",
    "    plt.subplot(324)\n",
    "    plt.imshow(X_train[3], cmap='gray')\n",
    "    plt.subplot(325)\n",
    "    plt.imshow(X_train[4], cmap='gray')\n",
    "    plt.subplot(326)\n",
    "    plt.imshow(X_train[5], cmap='gray')\n",
    "    plt.show()\n",
    "    \n",
    "def data_preparation_2D():\n",
    "    (X_train, y_train), (X_test, y_test) = load_mnist_dataset('mnist.npz')\n",
    "    print(X_train.shape)\n",
    "    \n",
    "    visualize_mnist(X_train)\n",
    "    \n",
    "    # transformar para o formato [instancias][largura][altura][pixeis]\n",
    "    print(\"shape[0]: \",X_train.shape[0])\n",
    "    print(\"shape antes: \",X_train.shape)\n",
    "    X_train = X_train.reshape(X_train.shape[0], 28, 28, 1).astype('float32')\n",
    "    X_test = X_test.reshape(X_test.shape[0], 28, 28, 1).astype('float32')\n",
    "    print(\"shape depois: \",X_train.shape)\n",
    "    \n",
    "    # normalizar os valores dos pixeis de 0-255 para 0-1\n",
    "    X_train = X_train / 255\n",
    "    X_test = X_test / 255\n",
    "    \n",
    "    # o 5 passa a ser a lista [0. 0. 0. 0. 0. 1. 0. 0. 0. 0.]\n",
    "    #y_train = np_utils.to_categorical(y_train)\n",
    "    #y_test = np_utils.to_categorical(y_test)\n",
    "    \n",
    "    num_classes = 10 # y_test.shape[1]\n",
    "    \n",
    "    return X_train, X_test, y_train, y_test, num_classes\n",
    "  \n",
    "    \n",
    "X_train, X_test, y_train, y_test, num_classes = data_preparation_2D()"
   ]
  },
  {
   "cell_type": "markdown",
   "metadata": {},
   "source": [
    "\n",
    "\n",
    "\n"
   ]
  },
  {
   "cell_type": "code",
   "execution_count": 3,
   "metadata": {},
   "outputs": [
    {
     "name": "stdout",
     "output_type": "stream",
     "text": [
      "\n",
      "############### ENCODER #################\n",
      "Model: \"encoder\"\n",
      "__________________________________________________________________________________________________\n",
      "Layer (type)                    Output Shape         Param #     Connected to                     \n",
      "==================================================================================================\n",
      "input_1 (InputLayer)            (None, 28, 28, 1)    0                                            \n",
      "__________________________________________________________________________________________________\n",
      "conv2d_1 (Conv2D)               (None, 28, 28, 32)   320         input_1[0][0]                    \n",
      "__________________________________________________________________________________________________\n",
      "conv2d_2 (Conv2D)               (None, 14, 14, 64)   18496       conv2d_1[0][0]                   \n",
      "__________________________________________________________________________________________________\n",
      "conv2d_3 (Conv2D)               (None, 14, 14, 64)   36928       conv2d_2[0][0]                   \n",
      "__________________________________________________________________________________________________\n",
      "conv2d_4 (Conv2D)               (None, 14, 14, 64)   36928       conv2d_3[0][0]                   \n",
      "__________________________________________________________________________________________________\n",
      "flatten_1 (Flatten)             (None, 12544)        0           conv2d_4[0][0]                   \n",
      "__________________________________________________________________________________________________\n",
      "dense_1 (Dense)                 (None, 32)           401440      flatten_1[0][0]                  \n",
      "__________________________________________________________________________________________________\n",
      "dense_2 (Dense)                 (None, 2)            66          dense_1[0][0]                    \n",
      "__________________________________________________________________________________________________\n",
      "dense_3 (Dense)                 (None, 2)            66          dense_1[0][0]                    \n",
      "==================================================================================================\n",
      "Total params: 494,244\n",
      "Trainable params: 494,244\n",
      "Non-trainable params: 0\n",
      "__________________________________________________________________________________________________\n",
      "\n",
      "############### DECODER #################\n",
      "Model: \"decoder\"\n",
      "_________________________________________________________________\n",
      "Layer (type)                 Output Shape              Param #   \n",
      "=================================================================\n",
      "input_2 (InputLayer)         (None, 2)                 0         \n",
      "_________________________________________________________________\n",
      "dense_4 (Dense)              (None, 12544)             37632     \n",
      "_________________________________________________________________\n",
      "reshape_1 (Reshape)          (None, 14, 14, 64)        0         \n",
      "_________________________________________________________________\n",
      "conv2d_transpose_1 (Conv2DTr (None, 28, 28, 32)        18464     \n",
      "_________________________________________________________________\n",
      "conv2d_5 (Conv2D)            (None, 28, 28, 1)         289       \n",
      "=================================================================\n",
      "Total params: 56,385\n",
      "Trainable params: 56,385\n",
      "Non-trainable params: 0\n",
      "_________________________________________________________________\n"
     ]
    }
   ],
   "source": [
    "def create_encoder():\n",
    "    input_image= Input(shape=(28, 28, 1)) #imagens do MNIST\n",
    "    encoded1 = Conv2D(32, 3, padding='same', activation='relu')(input_image)\n",
    "    encoded2 = Conv2D(64, 3, padding='same', activation='relu', strides=(2, 2))(encoded1)#com stride (2,2) vais diminuir a dimensão da imagem\n",
    "    encoded3 = Conv2D(64, 3, padding='same', activation='relu')(encoded2)\n",
    "    encoded4 = Conv2D(64, 3, padding='same', activation='relu')(encoded3)\n",
    "    encoded5 = Flatten()(encoded4)\n",
    "    encoded6 = Dense(32, activation='relu')(encoded5)\n",
    "    t_mean = Dense(2)(encoded6) #o 2 refere-se à dimensão do latent space\n",
    "    t_log_var = Dense(2)(encoded6)\n",
    "    #ver documentação do keras:\n",
    "    #Output of the created model are the sufficient statistics\n",
    "    #of the variational distriution q(t|x;phi), mean and log variance.\n",
    "    encoder = Model(inputs=input_image, outputs=[t_mean, t_log_var], name='encoder')\n",
    "    return encoder\n",
    "\n",
    "def create_decoder():\n",
    "    decoder_input = Input(shape=(2,)) #o 2 refere-se à dimensão do latent space (sampling)\n",
    "    decoded1 = Dense(12544, activation='relu')(decoder_input) #12544 = 14*14*64\n",
    "    decoded2 = Reshape((14, 14, 64))(decoded1)\n",
    "    decoded3 = Conv2DTranspose(32, 3, padding='same', activation='relu', strides=(2, 2))(decoded2)\n",
    "    decoded4 = Conv2D(1, 3, padding='same', activation='sigmoid')(decoded3)\n",
    "    #Outputs são imagens com shape (28, 28, 1) onde o valor de cada pixel corresponde à prob. de ser branco\n",
    "    decoder = Model(inputs=decoder_input, outputs=decoded4, name='decoder')\n",
    "    return decoder\n",
    "\n",
    "encoder = create_encoder()\n",
    "decoder = create_decoder()\n",
    "print(\"\\n############### ENCODER #################\")\n",
    "encoder.summary()\n",
    "print(\"\\n############### DECODER #################\")\n",
    "decoder.summary()"
   ]
  },
  {
   "cell_type": "code",
   "execution_count": 4,
   "metadata": {},
   "outputs": [
    {
     "name": "stdout",
     "output_type": "stream",
     "text": [
      "\n",
      "############### VARIATIONAL AUTOENCODER #################\n",
      "Model: \"vae\"\n",
      "__________________________________________________________________________________________________\n",
      "Layer (type)                    Output Shape         Param #     Connected to                     \n",
      "==================================================================================================\n",
      "input_3 (InputLayer)            (None, 28, 28, 1)    0                                            \n",
      "__________________________________________________________________________________________________\n",
      "encoder (Model)                 [(None, 2), (None, 2 494244      input_3[0][0]                    \n",
      "__________________________________________________________________________________________________\n",
      "sampler (Lambda)                (None, 2)            0           encoder[1][0]                    \n",
      "                                                                 encoder[1][1]                    \n",
      "__________________________________________________________________________________________________\n",
      "decoder (Model)                 (None, 28, 28, 1)    56385       sampler[0][0]                    \n",
      "==================================================================================================\n",
      "Total params: 550,629\n",
      "Trainable params: 550,629\n",
      "Non-trainable params: 0\n",
      "__________________________________________________________________________________________________\n"
     ]
    }
   ],
   "source": [
    "# em vez de codificar uma entrada como um único ponto, vamos codificar como uma distribuição no espaço latente\n",
    "\n",
    "#código baseado no exemplo da documentação do keras\n",
    "def sample(args):\n",
    "    '''\n",
    "    Draws samples from a standard normal and scales the samples with\n",
    "    standard deviation of the variational distribution and shifts them\n",
    "    by the mean.\n",
    "    Args: sufficient statistics of the variational distribution.\n",
    "    Returns: Samples from the variational distribution.\n",
    "    '''\n",
    "    t_mean, t_log_var = args\n",
    "    t_sigma = K.sqrt(K.exp(t_log_var))\n",
    "    epsilon = K.random_normal(shape=K.shape(t_mean), mean=0., stddev=1.)\n",
    "    return t_mean + t_sigma * epsilon\n",
    "\n",
    "#Lambda layers in Keras help you to implement layers or functionality that is not prebuilt \n",
    "#and which do not require trainable weights.\n",
    "def create_sampler(): #Creates a sampling layer.\n",
    "    return Lambda(sample, name='sampler') #Lambda refer-se ao layer.Lambda\n",
    "\n",
    "sampler = create_sampler()\n",
    "\n",
    "def create_vae():\n",
    "    input_image = Input(shape=(28, 28, 1))\n",
    "    t_mean, t_log_var = encoder(input_image)\n",
    "    t = sampler([t_mean, t_log_var]) #novo layer para fazer o sampling\n",
    "    t_decoded = decoder(t)\n",
    "    vae = Model(input_image, t_decoded, name='vae')\n",
    "    return vae, t_mean, t_log_var\n",
    "\n",
    "vae,t_mean, t_log_var = create_vae()\n",
    "print(\"\\n############### VARIATIONAL AUTOENCODER #################\")\n",
    "vae.summary()"
   ]
  },
  {
   "cell_type": "code",
   "execution_count": 5,
   "metadata": {},
   "outputs": [],
   "source": [
    "#ver documentação do keras (variational autoencoders)\n",
    "def neg_variational_lower_bound(input_image, t_decoded):\n",
    "    '''\n",
    "    Negative variational lower bound used as loss function\n",
    "    for training the variational auto-encoder.\n",
    "    Args:  input_image: input images\n",
    "           t_decoded: reconstructed images\n",
    "    '''\n",
    "    # Reconstruction loss\n",
    "    rc_loss = K.sum(K.binary_crossentropy(K.batch_flatten(input_image), K.batch_flatten(t_decoded)), axis=-1)\n",
    "    # Regularization term (KL divergence)\n",
    "    kl_loss = -0.5 * K.sum(1 + t_log_var - K.square(t_mean) - K.exp(t_log_var), axis=-1)\n",
    "    # Average over mini-batch\n",
    "    return K.mean(rc_loss + kl_loss)"
   ]
  },
  {
   "cell_type": "code",
   "execution_count": 6,
   "metadata": {},
   "outputs": [
    {
     "data": {
      "image/png": "[encoded data removed]",
      "text/plain": [
       "<Figure size 864x576 with 2 Axes>"
      ]
     },
     "metadata": {
      "needs_background": "light"
     },
     "output_type": "display_data"
    },
    {
     "name": "stdout",
     "output_type": "stream",
     "text": [
      "accuracy\n",
      "\tvalidation       \t (min:    0.787, max:    0.801, cur:    0.799)\n",
      "\ttraining         \t (min:    0.793, max:    0.798, cur:    0.798)\n",
      "Loss\n",
      "\tvalidation       \t (min:  149.662, max:  172.784, cur:  150.630)\n",
      "\ttraining         \t (min:  148.895, max:  213.677, cur:  148.895)\n",
      "\n",
      "Epoch 00015: loss improved from 149.33274 to 148.89487, saving model to best_weights.hdf5\n"
     ]
    }
   ],
   "source": [
    "def compiletrain(vae, X_train, X_test):\n",
    "    metrics = ['accuracy']\n",
    "    vae.compile(optimizer='rmsprop', loss=neg_variational_lower_bound, metrics=metrics)\n",
    "    checkpointer = ModelCheckpoint(filepath=\"best_weights_vae_mnist.hdf5\", monitor = 'loss', verbose=1, save_best_only=True)\n",
    "    history = vae.fit(x=X_train, y=X_train, \n",
    "                      epochs=15,\n",
    "                      shuffle=True, \n",
    "                      batch_size=128, \n",
    "                      validation_data=(X_test, X_test), \n",
    "                      verbose=1,\n",
    "                      callbacks=[PlotLossesKeras(),checkpointer])\n",
    "    vae.load_weights('best_weights_vae_mnist.hdf5')\n",
    "    vae.save('model_vae_mnist.h5') #isto não funciona devido à layer de sampling\n",
    "    return vae, history\n",
    "\n",
    "vae = compiletrain(vae, X_train, X_test)"
   ]
  }
 ],
 "metadata": {
  "kernelspec": {
   "display_name": "Python 3",
   "language": "python",
   "name": "python3"
  },
  "language_info": {
   "codemirror_mode": {
    "name": "ipython",
    "version": 3
   },
   "file_extension": ".py",
   "mimetype": "text/x-python",
   "name": "python",
   "nbconvert_exporter": "python",
   "pygments_lexer": "ipython3",
   "version": "3.7.6"
  }
 },
 "nbformat": 4,
 "nbformat_minor": 4
}
